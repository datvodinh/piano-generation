{
 "cells": [
  {
   "cell_type": "code",
   "execution_count": null,
   "metadata": {},
   "outputs": [],
   "source": [
    "!git clone https://github.com/datvodinh/piano-generation.git"
   ]
  },
  {
   "cell_type": "code",
   "execution_count": null,
   "metadata": {},
   "outputs": [],
   "source": [
    "%cd piano-generation"
   ]
  },
  {
   "cell_type": "code",
   "execution_count": null,
   "metadata": {},
   "outputs": [],
   "source": [
    "!pip install gdown\n",
    "!pip install numpy==1.22.0\n",
    "!pip install wandb --upgrade\n",
    "# !gdown 1H_ICjpuGs3-lqI4NJZb2DEpaojA1Dcx- # seq 512\n",
    "!gdown 1uivHzRcAaNq0UxSBIv_8W97YnbzDb2Ps # seq 1024"
   ]
  },
  {
   "cell_type": "code",
   "execution_count": null,
   "metadata": {},
   "outputs": [],
   "source": [
    "!python src/runs/train.py \\\n",
    "--train-dir process_data/train_data_100.pt \\\n",
    "--val-dir process_data/val_data_100.pt \\\n",
    "--model-type gpt2 \\\n",
    "--max-epochs 100 \\\n",
    "--batch-size 32 \\\n",
    "--num-workers 2 \\\n",
    "--wandb"
   ]
  },
  {
   "cell_type": "code",
   "execution_count": null,
   "metadata": {},
   "outputs": [],
   "source": []
  }
 ],
 "metadata": {
  "language_info": {
   "name": "python"
  }
 },
 "nbformat": 4,
 "nbformat_minor": 2
}
