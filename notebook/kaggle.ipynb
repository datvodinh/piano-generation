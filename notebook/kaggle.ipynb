{
 "cells": [
  {
   "cell_type": "code",
   "execution_count": null,
   "metadata": {},
   "outputs": [],
   "source": [
    "!git clone https://github.com/datvodinh/piano-generation.git"
   ]
  },
  {
   "cell_type": "code",
   "execution_count": null,
   "metadata": {},
   "outputs": [],
   "source": [
    "%cd piano-generation"
   ]
  },
  {
   "cell_type": "code",
   "execution_count": null,
   "metadata": {},
   "outputs": [],
   "source": [
    "!pip install gdown\n",
    "# !gdown 1H_ICjpuGs3-lqI4NJZb2DEpaojA1Dcx- # seq 512\n",
    "!gdown 1uivHzRcAaNq0UxSBIv_8W97YnbzDb2Ps # seq 1024"
   ]
  },
  {
   "cell_type": "code",
   "execution_count": null,
   "metadata": {},
   "outputs": [],
   "source": [
    "!python src/runs/train.py -d ./process_data/aug_data.pt -mt transformer_xl -me 1 -b 8 -n 2 -w"
   ]
  }
 ],
 "metadata": {
  "language_info": {
   "name": "python"
  }
 },
 "nbformat": 4,
 "nbformat_minor": 2
}
